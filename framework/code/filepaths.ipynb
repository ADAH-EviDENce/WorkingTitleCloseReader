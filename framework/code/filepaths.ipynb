{
 "cells": [
  {
   "cell_type": "markdown",
   "metadata": {},
   "source": [
    "# Directory structure, paths, and file names"
   ]
  },
  {
   "cell_type": "markdown",
   "metadata": {},
   "source": [
    "Below we declare the required paths and file names for the doc2vec model framework."
   ]
  },
  {
   "cell_type": "code",
   "execution_count": null,
   "metadata": {},
   "outputs": [],
   "source": [
    "import os\n",
    "import configparser"
   ]
  },
  {
   "cell_type": "markdown",
   "metadata": {},
   "source": [
    "### Import configuration\n"
   ]
  },
  {
   "cell_type": "code",
   "execution_count": null,
   "metadata": {},
   "outputs": [],
   "source": [
    "config = configparser.ConfigParser()\n",
    "config.read('../config/filenames_config.txt')"
   ]
  },
  {
   "cell_type": "markdown",
   "metadata": {},
   "source": [
    "## Define paths "
   ]
  },
  {
   "cell_type": "markdown",
   "metadata": {},
   "source": [
    "### define filenames"
   ]
  },
  {
   "cell_type": "code",
   "execution_count": null,
   "metadata": {},
   "outputs": [],
   "source": [
    "corpus_file_name = config['filenames']['corpus_file_name']\n",
    "corpus_ids_file_name = config['filenames']['corpus_ids_file_name']\n",
    "model_output_file_name = config['filenames']['model_output_file_name']\n",
    "model_output_corpus_vectors = config['filenames']['model_output_corpus_vectors']\n",
    "model_output_corpus_vectors_json = config['filenames']['model_output_corpus_vectors_json']"
   ]
  },
  {
   "cell_type": "code",
   "execution_count": null,
   "metadata": {},
   "outputs": [],
   "source": []
  },
  {
   "cell_type": "markdown",
   "metadata": {},
   "source": [
    "#### define paths (in docker container)"
   ]
  },
  {
   "cell_type": "code",
   "execution_count": null,
   "metadata": {},
   "outputs": [],
   "source": [
    "corpus_input_path = '/home/jovyan/input/corpus_input'\n",
    "corpus_path = '/home/jovyan/output/preprocessed_corpus'\n",
    "model_output_path = '/home/jovyan/output/model'\n",
    "\n",
    "#corpus_input_path_rel = '/test/corpus_input'\n",
    "#corpus_path_rel = '/test/preprocessed_corpus'\n",
    "#model_output_path_rel = '/test/model'\n"
   ]
  },
  {
   "cell_type": "markdown",
   "metadata": {},
   "source": [
    "#### create non existing paths"
   ]
  },
  {
   "cell_type": "code",
   "execution_count": null,
   "metadata": {},
   "outputs": [],
   "source": [
    "#change to jovyan user home directory and make from there to circumvent permission issues\n",
    "cwd = os.getcwd()\n",
    "os.chdir('/home/jovyan')\n",
    "\n",
    "if not os.path.exists(corpus_path):\n",
    "    os.makedirs(corpus_path)\n",
    "    \n",
    "if not os.path.exists(model_output_path):\n",
    "    os.makedirs(model_output_path)\n",
    "\n",
    "#change back to original working directory\n",
    "os.chdir(cwd)"
   ]
  },
  {
   "cell_type": "markdown",
   "metadata": {},
   "source": [
    "### create full file paths"
   ]
  },
  {
   "cell_type": "code",
   "execution_count": null,
   "metadata": {},
   "outputs": [],
   "source": [
    "#corpus_input_path = os.getcwd()+corpus_input_path_rel\n",
    "corpus_file_path = os.path.join(corpus_path,corpus_file_name)\n",
    "corpus_ids_file_path = os.path.join(corpus_path,corpus_ids_file_name)\n",
    "model_output_file_path = os.path.join(model_output_path,model_output_file_name)\n",
    "model_output_corpus_vectors_path = os.path.join(model_output_path,model_output_corpus_vectors)\n",
    "model_output_corpus_vectors_json_path = os.path.join(model_output_path,model_output_corpus_vectors_json)"
   ]
  }
 ],
 "metadata": {
  "kernelspec": {
   "display_name": "Python [conda env:EviDENce]",
   "language": "python",
   "name": "conda-env-EviDENce-py"
  },
  "language_info": {
   "codemirror_mode": {
    "name": "ipython",
    "version": 3
   },
   "file_extension": ".py",
   "mimetype": "text/x-python",
   "name": "python",
   "nbconvert_exporter": "python",
   "pygments_lexer": "ipython3",
   "version": "3.6.7"
  }
 },
 "nbformat": 4,
 "nbformat_minor": 2
}
