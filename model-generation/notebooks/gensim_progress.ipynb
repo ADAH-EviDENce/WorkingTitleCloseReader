{
 "cells": [
  {
   "cell_type": "code",
   "execution_count": null,
   "metadata": {},
   "outputs": [],
   "source": [
    "from tqdm import tqdm\n",
    "from gensim.models.callbacks import CallbackAny2Vec"
   ]
  },
  {
   "cell_type": "code",
   "execution_count": null,
   "metadata": {},
   "outputs": [],
   "source": [
    "\n",
    "class ProgressCallback(CallbackAny2Vec):\n",
    "    '''Callback to print epoch progress.'''\n",
    "\n",
    "    def __init__(self, number_of_epochs):\n",
    "        self.epoch = 0\n",
    "        self.batch = 0\n",
    "        self.number_of_epochs = number_of_epochs\n",
    "        self.pbar = None\n",
    "\n",
    "    def on_train_begin(self, model):\n",
    "        # print(\"\\nTotal epochs: {}\".format(self.number_of_epochs))\n",
    "        self.pbar = tqdm(total=self.number_of_epochs, desc=\"Training the model \", unit=\" epochs\")\n",
    "\n",
    "    def on_batch_begin(self, model):\n",
    "        pass\n",
    "        # print(\"\\nBatch {} start\".format(self.batch))\n",
    "\n",
    "    def on_batch_end(self, model):\n",
    "        pass\n",
    "        # print(\"\\nBatch {} end\".format(self.batch))\n",
    "\n",
    "    def on_epoch_begin(self, model):\n",
    "        pass\n",
    "        # print(\"\\n  Epoch {}/{} start\".format(self.epoch, self.number_of_epochs))\n",
    "\n",
    "    def on_epoch_end(self, model):\n",
    "        self.pbar.update(1)\n",
    "        \n",
    "    def on_train_end(self, model):\n",
    "        self.pbar.close()\n",
    "        del self.pbar\n"
   ]
  }
 ],
 "metadata": {
  "kernelspec": {
   "display_name": "Python 3",
   "language": "python",
   "name": "python3"
  },
  "language_info": {
   "codemirror_mode": {
    "name": "ipython",
    "version": 3
   },
   "file_extension": ".py",
   "mimetype": "text/x-python",
   "name": "python",
   "nbconvert_exporter": "python",
   "pygments_lexer": "ipython3",
   "version": "3.8.3"
  }
 },
 "nbformat": 4,
 "nbformat_minor": 4
}
