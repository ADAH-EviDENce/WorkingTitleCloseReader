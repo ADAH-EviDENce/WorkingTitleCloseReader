{
  "cells": [
    {
      "cell_type": "markdown",
      "source": [
        "# Create Corpus File"
      ],
      "metadata": {}
    },
    {
      "cell_type": "code",
      "source": [
        "import os\n",
        "import import_ipynb\n",
        "import tokenizer\n",
        "corpus_abspath    = os.path.join('/', 'data', 'corpus')\n",
        "ids_abspath       = os.path.join('/', 'data', 'model', 'fragment_ids.txt')\n",
        "fragments_abspath = os.path.join('/', 'data', 'model', 'fragments.txt')\n",
        "tokenized_abspath = os.path.join('/', 'data', 'model', 'tokenized_fragments.txt')\n",
        "model_abspath     = os.path.join('/', 'data', 'model', 'corpus-vectors.json')\n"
      ],
      "outputs": [],
      "execution_count": null,
      "metadata": {}
    },
    {
      "cell_type": "markdown",
      "source": [
        "## Read in corpus"
      ],
      "metadata": {}
    },
    {
      "cell_type": "code",
      "source": [
        "with open(fragments_abspath, 'w') as frf , open(tokenized_abspath,'w') as tf ,  open(ids_abspath,'w') as nf :\n",
        "    for dirName, subdirList, filelist in os.walk(corpus_abspath,topdown=False):\n",
        "        for fname in filelist:\n",
        "            if fname.endswith('.txt'):\n",
        "                rel_dir = os.path.relpath(dirName,corpus_abspath)\n",
        "                rel_file = os.path.join(rel_dir,fname)\n",
        "                nf.write(os.path.splitext(rel_file.replace(\"/\",\"_\"))[0]+'\\n')\n",
        "                with open(os.path.join(dirName,fname),'r') as inf:\n",
        "                    lines = inf.readlines()\n",
        "                    for line in lines:\n",
        "                        frf.write(line='\\n')\n",
        "                        line_processed = tokenizer.preprocess_fragment(line)\n",
        "                        tf.write(line_processed+'\\n')"
      ],
      "outputs": [],
      "execution_count": null,
      "metadata": {}
    },
    {
      "cell_type": "code",
      "source": [],
      "outputs": [],
      "execution_count": null,
      "metadata": {}
    }
  ],
  "metadata": {
    "kernelspec": {
      "display_name": "evidence",
      "language": "python",
      "name": "evidence"
    },
    "language_info": {
      "codemirror_mode": {
        "name": "ipython",
        "version": 3
      },
      "file_extension": ".py",
      "mimetype": "text/x-python",
      "name": "python",
      "nbconvert_exporter": "python",
      "pygments_lexer": "ipython3",
      "version": "3.6.10"
    },
    "nteract": {
      "version": "0.24.0"
    }
  },
  "nbformat": 4,
  "nbformat_minor": 4
}