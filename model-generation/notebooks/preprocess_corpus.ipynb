{
 "cells": [
  {
   "cell_type": "markdown",
   "metadata": {},
   "source": [
    "# Create Corpus File"
   ]
  },
  {
   "cell_type": "code",
   "execution_count": 1,
   "metadata": {},
   "outputs": [
    {
     "name": "stdout",
     "output_type": "stream",
     "text": [
      "importing Jupyter notebook from tokenizer.ipynb\n",
      "importing Jupyter notebook from filepaths.ipynb\n"
     ]
    }
   ],
   "source": [
    "import os\n",
    "import import_ipynb\n",
    "import tokenizer\n",
    "corpus_abspath = os.path.join('/', 'data', 'corpus')\n",
    "bow_abspath    = os.path.join('/', 'data', 'model', 'vocabulary_bow.txt')\n",
    "ids_abspath    = os.path.join('/', 'data', 'model', 'vocabulary_ids.txt')\n",
    "model_abspath  = os.path.join('/', 'data', 'model', 'doc2vec.json')\n"
   ]
  },
  {
   "cell_type": "markdown",
   "metadata": {},
   "source": [
    "## Read in corpus"
   ]
  },
  {
   "cell_type": "code",
   "execution_count": 6,
   "metadata": {},
   "outputs": [],
   "source": [
    "with open(bow_abspath,'w') as tf ,  open(ids_abspath,'w') as nf :\n",
    "    for dirName, subdirList, filelist in os.walk(corpus_abspath,topdown=False):\n",
    "        for fname in filelist:\n",
    "            if fname.endswith('.txt'):\n",
    "                rel_dir = os.path.relpath(dirName,corpus_abspath)\n",
    "                rel_file = os.path.join(rel_dir,fname)\n",
    "                nf.write(os.path.splitext(rel_file.replace(\"/\",\"_\"))[0]+'\\n')\n",
    "                with open(os.path.join(dirName,fname),'r') as inf:\n",
    "                    lines = inf.readlines()\n",
    "                    for line in lines:\n",
    "                        line_processed = tokenizer.preprocess_fragment(line)\n",
    "                        tf.write(line_processed+'\\n')"
   ]
  },
  {
   "cell_type": "code",
   "execution_count": null,
   "metadata": {},
   "outputs": [],
   "source": []
  }
 ],
 "metadata": {
  "kernelspec": {
   "display_name": "Python [conda env:evidence]",
   "language": "python",
   "name": "evidence"
  },
  "language_info": {
   "codemirror_mode": {
    "name": "ipython",
    "version": 3
   },
   "file_extension": ".py",
   "mimetype": "text/x-python",
   "name": "python",
   "nbconvert_exporter": "python",
   "pygments_lexer": "ipython3",
   "version": "3.6.7"
  }
 },
 "nbformat": 4,
 "nbformat_minor": 2
}
