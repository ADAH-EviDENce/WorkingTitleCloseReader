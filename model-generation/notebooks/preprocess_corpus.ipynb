{
 "cells": [
  {
   "cell_type": "markdown",
   "metadata": {},
   "source": [
    "# Create Corpus File"
   ]
  },
  {
   "cell_type": "code",
   "execution_count": null,
   "metadata": {},
   "outputs": [],
   "source": [
    "import os\n",
    "import import_ipynb\n",
    "import tokenizer\n",
    "corpus_input_path =                     os.path.join('/', 'data', 'corpus')\n",
    "corpus_file_path =                      os.path.join('/', 'data', 'model', 'vocabulary_bow.txt')\n",
    "corpus_ids_file_path =                  os.path.join('/', 'data', 'model', 'vocabulary_ids.txt')\n",
    "model_output_file_path =                os.path.join('/', 'data', 'model', 'doc2vec.d2v')\n",
    "model_output_corpus_vectors_path =      os.path.join('/', 'data', 'model', 'corpus-vectors.pkl')\n",
    "model_output_corpus_vectors_json_path = os.path.join('/', 'data', 'model', 'corpus-vectors.json')\n"
   ]
  },
  {
   "cell_type": "markdown",
   "metadata": {},
   "source": [
    "## Read in corpus"
   ]
  },
  {
   "cell_type": "code",
   "execution_count": null,
   "metadata": {},
   "outputs": [],
   "source": [
    "with open(corpus_file_path,'w') as tf ,  open(corpus_ids_file_path,'w') as nf :\n",
    "    for dirName, subdirList, filelist in os.walk(corpus_input_path,topdown=False):\n",
    "        for fname in filelist:\n",
    "            if fname.endswith('.txt'):\n",
    "                rel_dir = os.path.relpath(dirName,corpus_input_path)\n",
    "                rel_file = os.path.join(rel_dir,fname)\n",
    "                nf.write(os.path.splitext(rel_file.replace(\"/\",\"_\"))[0]+'\\n')\n",
    "                with open(os.path.join(dirName,fname),'r') as inf:\n",
    "                    lines = inf.readlines()\n",
    "                    for line in lines:\n",
    "                        line_processed = tokenizer.preprocess_fragment(line)\n",
    "                        tf.write(line_processed+'\\n')"
   ]
  },
  {
   "cell_type": "code",
   "execution_count": null,
   "metadata": {},
   "outputs": [],
   "source": []
  }
 ],
 "metadata": {
  "kernelspec": {
   "display_name": "evidence",
   "language": "python",
   "name": "evidence"
  },
  "language_info": {
   "codemirror_mode": {
    "name": "ipython",
    "version": 3
   },
   "file_extension": ".py",
   "mimetype": "text/x-python",
   "name": "python",
   "nbconvert_exporter": "python",
   "pygments_lexer": "ipython3",
   "version": "3.6.10"
  }
 },
 "nbformat": 4,
 "nbformat_minor": 4
}
