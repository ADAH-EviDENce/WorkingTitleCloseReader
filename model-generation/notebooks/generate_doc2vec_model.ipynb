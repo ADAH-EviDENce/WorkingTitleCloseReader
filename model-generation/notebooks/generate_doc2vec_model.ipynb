{
  "cells": [
    {
      "cell_type": "markdown",
      "source": [
        "# Model generation using doc2vec"
      ],
      "metadata": {}
    },
    {
      "cell_type": "markdown",
      "source": [
        "## Introduction"
      ],
      "metadata": {}
    },
    {
      "cell_type": "markdown",
      "source": [
        "Answering a research question based on information within a corpus of text relies on the ability to extract relevant subsets of the corpus (documents, parts of documents, etc.). The defintion of what constitutes a relevant subset may, however, not be immediately implementable in classical information retrieval terms such as keywords (which may also be perceived as limiting), and is not an intuitive starting point for researchers accustomed to working close to text, i.e. close-readng documents to identify and retrieve the information which interests them.\n",
        "\n",
        "As an alternative to classical keyword defintion, and inspired by the approach of identifying relevant documents or passages using a more holistic assesment of their content, in the following we present the construction of a shallow neural network based model, trained on a user supplied corpus (which has been preprocessed by the user), aiming to encapsualte the content of a corpus element, with the goal, of enabling the user to retrieve elements of similar content by querying the corpus using the content of a seed element as numerically encoded by the model.\n",
        "\n",
        "In the fllowing we construct the model using the `gensim` Python package and the doc2vec model framework it provides."
      ],
      "metadata": {}
    },
    {
      "cell_type": "markdown",
      "source": [
        "## Setup"
      ],
      "metadata": {}
    },
    {
      "cell_type": "markdown",
      "source": [
        "Commented out the lines below for less verbosity"
      ],
      "metadata": {}
    },
    {
      "cell_type": "code",
      "source": [
        "# import logging # gensim progress\n",
        "# logging.basicConfig(format=\"%(levelname)s - %(asctime)s: %(message)s\", datefmt= '%H:%M:%S', level=logging.INFO)"
      ],
      "outputs": [],
      "execution_count": null,
      "metadata": {}
    },
    {
      "cell_type": "markdown",
      "source": [
        "The following steps set up our environment\n",
        "\n",
        "First import the standard and required framework packages"
      ],
      "metadata": {}
    },
    {
      "cell_type": "code",
      "source": [
        "import os, json\n",
        "import numpy as np\n",
        "import scipy as sp"
      ],
      "outputs": [],
      "execution_count": null,
      "metadata": {}
    },
    {
      "cell_type": "markdown",
      "source": [
        "Next import packages directly related to the model construction and serialization of model output"
      ],
      "metadata": {}
    },
    {
      "cell_type": "code",
      "source": [
        "import gensim\n",
        "import pandas as pd\n",
        "import import_ipynb\n",
        "import corpus_reinferral\n",
        "from gensim_progress import ProgressCallback"
      ],
      "outputs": [],
      "execution_count": null,
      "metadata": {}
    },
    {
      "cell_type": "code",
      "source": [
        "corpus_file_path                      = os.path.join('/', 'data', 'model', 'tokenized_fragments.txt')\n",
        "corpus_ids_file_path                  = os.path.join('/', 'data', 'model', 'fragment_ids.txt')\n",
        "model_output_file_path                = os.path.join('/', 'data', 'model', 'doc2vec.d2v')\n",
        "model_output_corpus_vectors_path      = os.path.join('/', 'data', 'model', 'corpus-vectors.pkl')\n",
        "model_output_corpus_vectors_json_path = os.path.join('/', 'data', 'model', 'corpus-vectors.json')"
      ],
      "outputs": [],
      "execution_count": null,
      "metadata": {}
    },
    {
      "cell_type": "markdown",
      "source": [
        "Finally, as model construction is a process which requires a significant amout of computation, import packages to enable efficent usage of the available computational infrastructure, and specify allowed usage of infrastructure\n"
      ],
      "metadata": {}
    },
    {
      "cell_type": "code",
      "source": [
        "import multiprocessing\n",
        "\n",
        "cores = multiprocessing.cpu_count()\n",
        "usecores=np.int(3*cores/4)"
      ],
      "outputs": [],
      "execution_count": null,
      "metadata": {}
    },
    {
      "cell_type": "markdown",
      "source": [
        "## Utility Functions"
      ],
      "metadata": {}
    },
    {
      "cell_type": "markdown",
      "source": [
        "Having setup the environment we next define a small number of utility functions which will enable us to import the (already preprocessed) corpus and subsequently train our model."
      ],
      "metadata": {}
    },
    {
      "cell_type": "markdown",
      "source": [
        "#### Function to read in corpus into input format supported by `gensim` `doc2vec`\n",
        "\n",
        "This assumes that the corpus token file has been produced following the process encoded in the pre-processing notebook (), i.e. each corpus element (a 'document' in the sense of the doc2vec model) to be included in the model has been preprocessed and tokenized and is stored as a single string of tokens, with one element ('document') per line.\n",
        "\n",
        "We note, that in many cases these elements/documents will, in fact, correspond to e.g. paragraphs of a larger document."
      ],
      "metadata": {}
    },
    {
      "cell_type": "code",
      "source": [
        "def read_corpus(corpus_file):\n",
        "    with open(corpus_file,'r') as tf:\n",
        "        for i,text_line in enumerate(tf):\n",
        "            tokens = text_line.split(' ')\n",
        "            yield gensim.models.doc2vec.TaggedDocument(tokens,[i])\n",
        "            "
      ],
      "outputs": [],
      "execution_count": null,
      "metadata": {}
    },
    {
      "cell_type": "markdown",
      "source": [
        "#### Function to read in corpus and list of corpus element file names, creating an object which supports inspecting and linking model output"
      ],
      "metadata": {}
    },
    {
      "cell_type": "code",
      "source": [
        "def read_corpus_lookup(corpus_ids_file, corpus_file) :\n",
        "    with open(corpus_ids_file, 'r') as fnf, open(corpus_file,'r') as tf:\n",
        "        i=0\n",
        "        for (fn_line,tf_line) in zip(fnf,tf):\n",
        "            yield ([i],[fn_line.rstrip()],[tf_line])\n",
        "            i+=1"
      ],
      "outputs": [],
      "execution_count": null,
      "metadata": {}
    },
    {
      "cell_type": "markdown",
      "source": [
        "## Load corpus"
      ],
      "metadata": {}
    },
    {
      "cell_type": "markdown",
      "source": [
        "With the utility functions defined we can now load the corpus"
      ],
      "metadata": {}
    },
    {
      "cell_type": "code",
      "source": [
        "corp = list(read_corpus(corpus_file_path))"
      ],
      "outputs": [],
      "execution_count": null,
      "metadata": {}
    },
    {
      "cell_type": "markdown",
      "source": [
        "and the lookup corpus"
      ],
      "metadata": {}
    },
    {
      "cell_type": "code",
      "source": [
        "corp_lookup = list(read_corpus_lookup(corpus_ids_file_path,corpus_file_path))"
      ],
      "outputs": [],
      "execution_count": null,
      "metadata": {}
    },
    {
      "cell_type": "markdown",
      "source": [
        "Unique identifiers for each corpus element can then be constructed from the lookup corpus."
      ],
      "metadata": {}
    },
    {
      "cell_type": "code",
      "source": [
        "corp_ids =[]\n",
        "for i in range(len(corp)):\n",
        "    corp_ids.append(corp_lookup[i][1][0])"
      ],
      "outputs": [],
      "execution_count": null,
      "metadata": {}
    },
    {
      "cell_type": "markdown",
      "source": [
        "## Build Model"
      ],
      "metadata": {}
    },
    {
      "cell_type": "markdown",
      "source": [
        "Having imported the corpus we can now build a model from it.\n",
        "\n",
        "First we specify the model we want to bulid. In this case that is doc2vec with largely default settings, with modifications as specified in the following:"
      ],
      "metadata": {}
    },
    {
      "cell_type": "code",
      "source": [
        "vector_dimension=50\n",
        "word_min_count=2\n",
        "number_of_epochs=30"
      ],
      "outputs": [],
      "execution_count": null,
      "metadata": {}
    },
    {
      "cell_type": "code",
      "source": [
        "callback = ProgressCallback(number_of_epochs)"
      ],
      "outputs": [],
      "execution_count": null,
      "metadata": {}
    },
    {
      "cell_type": "code",
      "source": [
        "model = gensim.models.doc2vec.Doc2Vec(vector_size=vector_dimension, min_count=word_min_count, epochs=number_of_epochs, workers=usecores, callbacks=[callback])"
      ],
      "outputs": [],
      "execution_count": null,
      "metadata": {}
    },
    {
      "cell_type": "markdown",
      "source": [
        "next, using the model, we build the vocabulary that will be used"
      ],
      "metadata": {}
    },
    {
      "cell_type": "code",
      "source": [
        "model.build_vocab(corp)"
      ],
      "outputs": [],
      "execution_count": null,
      "metadata": {}
    },
    {
      "cell_type": "markdown",
      "source": [
        "then, we train the model, timing the process "
      ],
      "metadata": {}
    },
    {
      "cell_type": "code",
      "source": [
        "model.train(corp, total_examples=model.corpus_count, epochs=model.epochs)"
      ],
      "outputs": [],
      "execution_count": null,
      "metadata": {}
    },
    {
      "cell_type": "markdown",
      "source": [
        "and save the resulting trained model"
      ],
      "metadata": {}
    },
    {
      "cell_type": "code",
      "source": [
        "model.save(model_output_file_path)"
      ],
      "outputs": [],
      "execution_count": null,
      "metadata": {}
    },
    {
      "cell_type": "markdown",
      "source": [
        "## Reinfer corpus vectors "
      ],
      "metadata": {}
    },
    {
      "cell_type": "markdown",
      "source": [
        "Significant sections of the corpus vectors have been constructed during early epochs of the model training. Furthermore, in general, the corpora being modelled will be relatively small, so that individual instances of a derived/infered vector may be unstable and fluctuate in component dimensions. To adress this issue we reinfer the vector for each element of the corpus using the fully trained and frozen model multiple times, using the component wise median as the descriptive vector associated with a corpus element in further processing."
      ],
      "metadata": {}
    },
    {
      "cell_type": "markdown",
      "source": [
        "Use imported reinferral engine (corpus_reinferral.ipynb)"
      ],
      "metadata": {}
    },
    {
      "cell_type": "markdown",
      "source": [
        "#### Reinferral settings"
      ],
      "metadata": {}
    },
    {
      "cell_type": "code",
      "source": [
        "number_reinferral_instances=100  #this corresponds to the default setting"
      ],
      "outputs": [],
      "execution_count": null,
      "metadata": {}
    },
    {
      "cell_type": "markdown",
      "source": [
        "### Execute reinferral "
      ],
      "metadata": {}
    },
    {
      "cell_type": "code",
      "source": [
        "reinferred_corpus_vectors = corpus_reinferral.reinfer_corpus_single(corp,model,reinferral_instances=number_reinferral_instances)"
      ],
      "outputs": [],
      "execution_count": null,
      "metadata": {}
    },
    {
      "cell_type": "markdown",
      "source": [
        "Having reinferred the corpus vectors the results are saved in `numpy` binary format for potenial later (rapid) use."
      ],
      "metadata": {}
    },
    {
      "cell_type": "markdown",
      "source": [
        "### Create dataframe with mapping"
      ],
      "metadata": {}
    },
    {
      "cell_type": "markdown",
      "source": [
        "The reinferred vectors save above require a separate mapping structure to ensure the correct association of a vector with the corresponding corpus element in a more general use scenario which might include reordering. To this end, we save a dataframe containing the reinferred vectors and the associated element names/ids. "
      ],
      "metadata": {}
    },
    {
      "cell_type": "code",
      "source": [
        "data_list = list(map(list,zip(corp_ids,reinferred_corpus_vectors)))\n",
        "vectorDF = pd.DataFrame(data_list,columns=['id','vector'])\n",
        "vectorDF.to_pickle(model_output_corpus_vectors_path)"
      ],
      "outputs": [],
      "execution_count": null,
      "metadata": {}
    },
    {
      "cell_type": "code",
      "source": [
        "data_dict={data_list_element[0]:data_list_element[1].tolist() for data_list_element in data_list}\n",
        "with open(model_output_corpus_vectors_json_path,'w') as jf:\n",
        "    jf.write(json.dumps(data_dict,indent=2))"
      ],
      "outputs": [],
      "execution_count": null,
      "metadata": {}
    },
    {
      "cell_type": "markdown",
      "source": [
        "## Summary"
      ],
      "metadata": {}
    },
    {
      "cell_type": "markdown",
      "source": [
        "With the code above, we have built a doc2vec model on the ALREADY PREPROCCESSED corpus supplied, and have constructed averaged (i.e. numerically stablized) vectors in the model space for all corpus elements. Both the model and the vectors have been serialized for further use."
      ],
      "metadata": {}
    }
  ],
  "metadata": {
    "kernelspec": {
      "display_name": "evidence",
      "language": "python",
      "name": "evidence"
    },
    "language_info": {
      "codemirror_mode": {
        "name": "ipython",
        "version": 3
      },
      "file_extension": ".py",
      "mimetype": "text/x-python",
      "name": "python",
      "nbconvert_exporter": "python",
      "pygments_lexer": "ipython3",
      "version": "3.6.10"
    },
    "nteract": {
      "version": "0.24.0"
    }
  },
  "nbformat": 4,
  "nbformat_minor": 4
}